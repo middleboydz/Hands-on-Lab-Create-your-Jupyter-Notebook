{
 "cells": [
  {
   "cell_type": "markdown",
   "id": "c19cb87c-28c4-4354-b0ff-8ef9e0475d31",
   "metadata": {
    "tags": []
   },
   "source": [
    "# Data Science Tools and Ecosystem\n"
   ]
  },
  {
   "cell_type": "markdown",
   "id": "4ef3ada1-08d9-4ad6-948a-8af3210ef4e0",
   "metadata": {},
   "source": [
    "In this notebook, Data Science Tools and Ecosystem are summarized.\n",
    "\n"
   ]
  },
  {
   "cell_type": "markdown",
   "id": "7cbe00b0-89a4-486b-bcff-331bed5a2d01",
   "metadata": {
    "jupyter": {
     "source_hidden": true
    },
    "tags": []
   },
   "source": [
    "**Objectives:**\n",
    "\n",
    "- List of popular languages for Data Science\n",
    "- List of commonly used libraries used by Data Scientists\n",
    "- Data Science of tools\n",
    "- Simple arithmetic expression\n",
    "- convert 200 minutes to hours by diving by 60\n",
    "- Author details"
   ]
  },
  {
   "cell_type": "markdown",
   "id": "525a70a6-768b-46f2-aff0-ec7c58866f83",
   "metadata": {},
   "source": [
    "**Some of the popular languages that Data Scientists use are:**\n",
    "1. Python \n",
    "2. R\n",
    "3. SQL\n",
    "4. Java"
   ]
  },
  {
   "cell_type": "markdown",
   "id": "a0597578-deba-431e-9972-e7686bd114b9",
   "metadata": {
    "tags": []
   },
   "source": [
    "***Some of the commonly used libraries used by Data Scientists include:***\n",
    "1. Numpy\n",
    "2. Pandas\n",
    "3. Skicit Learn\n",
    "4. Matplotlib\n",
    "5. Seaborn"
   ]
  },
  {
   "cell_type": "markdown",
   "id": "c3cc38d5-64ae-442f-a91a-65b737a2cedd",
   "metadata": {
    "tags": []
   },
   "source": [
    "\n",
    "| Data Science Tools |\n",
    "|:------------------:|\n",
    "|     Jupyter        |\n",
    "|     R Studio       |\n",
    "|   Apache spark     | \n",
    "\n"
   ]
  },
  {
   "cell_type": "markdown",
   "id": "963c9b28-377f-4ab0-9af7-4c415b0c1bf1",
   "metadata": {},
   "source": [
    "### Below are a few examples of evaluating arithmetic expressions in Python"
   ]
  },
  {
   "cell_type": "code",
   "execution_count": 8,
   "id": "20be0a14-f6de-4abd-b37b-af8b20003e45",
   "metadata": {
    "tags": []
   },
   "outputs": [
    {
     "data": {
      "text/plain": [
       "17"
      ]
     },
     "execution_count": 8,
     "metadata": {},
     "output_type": "execute_result"
    }
   ],
   "source": [
    "# This a simple arithmetic expression to mutiply then add integers\n",
    "(3*4)+5"
   ]
  },
  {
   "cell_type": "code",
   "execution_count": 9,
   "id": "fabcd6ba-726d-426a-8759-a31cf453fb61",
   "metadata": {
    "tags": []
   },
   "outputs": [
    {
     "name": "stdout",
     "output_type": "stream",
     "text": [
      "3\n"
     ]
    }
   ],
   "source": [
    "# This will convert 200 minutes to hours by diving by 60\n",
    "hours = 200 //60\n",
    "print(hours)"
   ]
  },
  {
   "cell_type": "markdown",
   "id": "e98a57e1-cc7e-4a0f-a4f9-941ef23690e6",
   "metadata": {},
   "source": [
    "## Author\n",
    "Ha Van Loi"
   ]
  },
  {
   "cell_type": "code",
   "execution_count": null,
   "id": "8dcd6023-06db-411c-9df6-e62b7ef10f2e",
   "metadata": {},
   "outputs": [],
   "source": []
  }
 ],
 "metadata": {
  "kernelspec": {
   "display_name": "Python",
   "language": "python",
   "name": "conda-env-python-py"
  },
  "language_info": {
   "codemirror_mode": {
    "name": "ipython",
    "version": 3
   },
   "file_extension": ".py",
   "mimetype": "text/x-python",
   "name": "python",
   "nbconvert_exporter": "python",
   "pygments_lexer": "ipython3",
   "version": "3.7.12"
  }
 },
 "nbformat": 4,
 "nbformat_minor": 5
}
