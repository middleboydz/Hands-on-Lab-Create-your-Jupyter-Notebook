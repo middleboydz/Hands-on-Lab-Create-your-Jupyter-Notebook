{
 "cells": [
  {
   "cell_type": "markdown",
   "id": "c19cb87c-28c4-4354-b0ff-8ef9e0475d31",
   "metadata": {
    "tags": []
   },
   "source": [
    "# Data Science Tools and Ecosystem\n"
   ]
  },
  {
   "cell_type": "markdown",
   "id": "4ef3ada1-08d9-4ad6-948a-8af3210ef4e0",
   "metadata": {},
   "source": [
    "<details>\n",
    "<summary>Click here for the solution</summary>\n",
    "\n",
    "The output looks as:\n",
    "\n",
    "<img src=\"\">\n",
    "\n",
    "\n",
    "</details>"
   ]
  },
  {
   "cell_type": "code",
   "execution_count": null,
   "id": "e0dbcf0e-fcff-4b6b-b18d-a349df594ebe",
   "metadata": {},
   "outputs": [],
   "source": []
  }
 ],
 "metadata": {
  "kernelspec": {
   "display_name": "Python",
   "language": "python",
   "name": "conda-env-python-py"
  },
  "language_info": {
   "codemirror_mode": {
    "name": "ipython",
    "version": 3
   },
   "file_extension": ".py",
   "mimetype": "text/x-python",
   "name": "python",
   "nbconvert_exporter": "python",
   "pygments_lexer": "ipython3",
   "version": "3.7.12"
  }
 },
 "nbformat": 4,
 "nbformat_minor": 5
}
